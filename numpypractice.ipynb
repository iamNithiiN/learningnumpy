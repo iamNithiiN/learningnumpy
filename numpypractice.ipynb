{
  "metadata": {
    "language_info": {
      "codemirror_mode": {
        "name": "python",
        "version": 3
      },
      "file_extension": ".py",
      "mimetype": "text/x-python",
      "name": "python",
      "nbconvert_exporter": "python",
      "pygments_lexer": "ipython3",
      "version": "3.8"
    },
    "kernelspec": {
      "name": "python",
      "display_name": "Python (Pyodide)",
      "language": "python"
    }
  },
  "nbformat_minor": 4,
  "nbformat": 4,
  "cells": [
    {
      "cell_type": "markdown",
      "source": "# working on numpy",
      "metadata": {}
    },
    {
      "cell_type": "code",
      "source": "#importing numpy as np\nimport numpy as np",
      "metadata": {
        "trusted": true
      },
      "execution_count": 47,
      "outputs": []
    },
    {
      "cell_type": "markdown",
      "source": "### creating an array of different dimensions",
      "metadata": {}
    },
    {
      "cell_type": "code",
      "source": "o=np.array(69)#zero dimention\nt=np.array([1,2,3,2,5,6])#one dimention\nm=np.array([[[1,2],[3,6]],[[4,5],[6,9]]])#multi dimentional",
      "metadata": {
        "trusted": true
      },
      "execution_count": 51,
      "outputs": []
    },
    {
      "cell_type": "markdown",
      "source": "### printing dimentions, type and array",
      "metadata": {}
    },
    {
      "cell_type": "code",
      "source": "print(type(o))\nprint(m.ndim)\nprint(t)\nprint(m)",
      "metadata": {
        "trusted": true
      },
      "execution_count": 52,
      "outputs": [
        {
          "name": "stdout",
          "text": "<class 'numpy.ndarray'>\n3\n[1 2 3 2 5 6]\n[[[1 2]\n  [3 6]]\n\n [[4 5]\n  [6 9]]]\n",
          "output_type": "stream"
        }
      ]
    },
    {
      "cell_type": "code",
      "source": "res=np.asarray(t,dtype=\"float\")",
      "metadata": {
        "trusted": true
      },
      "execution_count": 53,
      "outputs": []
    },
    {
      "cell_type": "code",
      "source": "res",
      "metadata": {
        "trusted": true
      },
      "execution_count": 54,
      "outputs": [
        {
          "execution_count": 54,
          "output_type": "execute_result",
          "data": {
            "text/plain": "array([1., 2., 3., 2., 5., 6.])"
          },
          "metadata": {}
        }
      ]
    },
    {
      "cell_type": "code",
      "source": "res1=np.asarray(m,dtype=\"str\",order=\"F\")\nres1",
      "metadata": {
        "trusted": true
      },
      "execution_count": 55,
      "outputs": [
        {
          "execution_count": 55,
          "output_type": "execute_result",
          "data": {
            "text/plain": "array([[['1', '2'],\n        ['3', '6']],\n\n       [['4', '5'],\n        ['6', '9']]], dtype='<U11')"
          },
          "metadata": {}
        }
      ]
    },
    {
      "cell_type": "code",
      "source": "for i in res1:\n    print(i)",
      "metadata": {
        "trusted": true
      },
      "execution_count": 56,
      "outputs": [
        {
          "name": "stdout",
          "text": "[['1' '2']\n ['3' '6']]\n[['4' '5']\n ['6' '9']]\n",
          "output_type": "stream"
        }
      ]
    },
    {
      "cell_type": "code",
      "source": "for i in res1:\n    for j in i:\n        print(j)",
      "metadata": {
        "trusted": true
      },
      "execution_count": 57,
      "outputs": [
        {
          "name": "stdout",
          "text": "['1' '2']\n['3' '6']\n['4' '5']\n['6' '9']\n",
          "output_type": "stream"
        }
      ]
    },
    {
      "cell_type": "markdown",
      "source": "### working on nditer",
      "metadata": {}
    },
    {
      "cell_type": "code",
      "source": "for i in np.nditer(res1):\n    for j in np.nditer(i):\n        print(j)",
      "metadata": {
        "trusted": true
      },
      "execution_count": 58,
      "outputs": [
        {
          "name": "stdout",
          "text": "1\n4\n3\n6\n2\n5\n6\n9\n",
          "output_type": "stream"
        }
      ]
    },
    {
      "cell_type": "markdown",
      "source": "### using frombuffer(buffer,dtype,count,offset) ",
      "metadata": {}
    },
    {
      "cell_type": "code",
      "source": "s=b'welcom'\nc=np.frombuffer(s,dtype='S1',count=4,offset=2)\nprint(c)\nprint(s)",
      "metadata": {
        "trusted": true
      },
      "execution_count": 59,
      "outputs": [
        {
          "name": "stdout",
          "text": "[b'l' b'c' b'o' b'm']\nb'welcom'\n",
          "output_type": "stream"
        }
      ]
    },
    {
      "cell_type": "code",
      "source": "c=np.frombuffer(s,dtype='S1',count=6,offset=0)\nprint(c)",
      "metadata": {
        "trusted": true
      },
      "execution_count": 60,
      "outputs": [
        {
          "name": "stdout",
          "text": "[b'w' b'e' b'l' b'c' b'o' b'm']\n",
          "output_type": "stream"
        }
      ]
    },
    {
      "cell_type": "code",
      "source": "print(help(np.frombuffer))",
      "metadata": {
        "trusted": true
      },
      "execution_count": 61,
      "outputs": [
        {
          "name": "stdout",
          "text": "Help on built-in function frombuffer in module numpy:\n\nfrombuffer(...)\n    frombuffer(buffer, dtype=float, count=-1, offset=0, *, like=None)\n    \n    Interpret a buffer as a 1-dimensional array.\n    \n    Parameters\n    ----------\n    buffer : buffer_like\n        An object that exposes the buffer interface.\n    dtype : data-type, optional\n        Data-type of the returned array; default: float.\n    count : int, optional\n        Number of items to read. ``-1`` means all data in the buffer.\n    offset : int, optional\n        Start reading the buffer from this offset (in bytes); default: 0.\n    like : array_like, optional\n        Reference object to allow the creation of arrays which are not\n        NumPy arrays. If an array-like passed in as ``like`` supports\n        the ``__array_function__`` protocol, the result will be defined\n        by it. In this case, it ensures the creation of an array object\n        compatible with that passed in via this argument.\n    \n        .. versionadded:: 1.20.0\n    \n    Returns\n    -------\n    out : ndarray\n    \n    See also\n    --------\n    ndarray.tobytes\n        Inverse of this operation, construct Python bytes from the raw data\n        bytes in the array.\n    \n    Notes\n    -----\n    If the buffer has data that is not in machine byte-order, this should\n    be specified as part of the data-type, e.g.::\n    \n      >>> dt = np.dtype(int)\n      >>> dt = dt.newbyteorder('>')\n      >>> np.frombuffer(buf, dtype=dt) # doctest: +SKIP\n    \n    The data of the resulting array will not be byteswapped, but will be\n    interpreted correctly.\n    \n    This function creates a view into the original object.  This should be safe\n    in general, but it may make sense to copy the result when the original\n    object is mutable or untrusted.\n    \n    Examples\n    --------\n    >>> s = b'hello world'\n    >>> np.frombuffer(s, dtype='S1', count=5, offset=6)\n    array([b'w', b'o', b'r', b'l', b'd'], dtype='|S1')\n    \n    >>> np.frombuffer(b'\\x01\\x02', dtype=np.uint8)\n    array([1, 2], dtype=uint8)\n    >>> np.frombuffer(b'\\x01\\x02\\x03\\x04\\x05', dtype=np.uint8, count=3)\n    array([1, 2, 3], dtype=uint8)\n\nNone\n",
          "output_type": "stream"
        }
      ]
    },
    {
      "cell_type": "markdown",
      "source": "### using fromiter(iter,dtype,count)",
      "metadata": {}
    },
    {
      "cell_type": "code",
      "source": "l=[97,98,99]\nq=np.fromiter(l,dtype=\"S3\",count=3)\nprint(q)",
      "metadata": {
        "trusted": true
      },
      "execution_count": 62,
      "outputs": [
        {
          "name": "stdout",
          "text": "[b'97' b'98' b'99']\n",
          "output_type": "stream"
        }
      ]
    },
    {
      "cell_type": "markdown",
      "source": "### using arange (start index,stopindex,step,dtype) similar to range function with pyhon",
      "metadata": {}
    },
    {
      "cell_type": "code",
      "source": "np.arange(0,20,2,dtype=\"int\")",
      "metadata": {
        "trusted": true
      },
      "execution_count": 64,
      "outputs": [
        {
          "execution_count": 64,
          "output_type": "execute_result",
          "data": {
            "text/plain": "array([ 0,  2,  4,  6,  8, 10, 12, 14, 16, 18])"
          },
          "metadata": {}
        }
      ]
    },
    {
      "cell_type": "code",
      "source": "arr=np.arange(0,20,2,dtype=\"float\")\nprint(arr)",
      "metadata": {
        "trusted": true
      },
      "execution_count": 63,
      "outputs": [
        {
          "name": "stdout",
          "text": "[ 0.  2.  4.  6.  8. 10. 12. 14. 16. 18.]\n",
          "output_type": "stream"
        }
      ]
    },
    {
      "cell_type": "markdown",
      "source": "### using linspace(start,stop,num=50,endpoint=50,retstep=False,dtype)",
      "metadata": {}
    },
    {
      "cell_type": "code",
      "source": "arr1=np.linspace(0,30,9,endpoint=False,retstep=True)\nprint(arr1)",
      "metadata": {
        "trusted": true
      },
      "execution_count": 66,
      "outputs": [
        {
          "name": "stdout",
          "text": "(array([ 0.        ,  3.33333333,  6.66666667, 10.        , 13.33333333,\n       16.66666667, 20.        , 23.33333333, 26.66666667]), 3.3333333333333335)\n",
          "output_type": "stream"
        }
      ]
    },
    {
      "cell_type": "code",
      "source": "#using defalut values\narr2=np.linspace(1,50)\nprint(arr2)",
      "metadata": {
        "trusted": true
      },
      "execution_count": 71,
      "outputs": [
        {
          "name": "stdout",
          "text": "[ 1.  2.  3.  4.  5.  6.  7.  8.  9. 10. 11. 12. 13. 14. 15. 16. 17. 18.\n 19. 20. 21. 22. 23. 24. 25. 26. 27. 28. 29. 30. 31. 32. 33. 34. 35. 36.\n 37. 38. 39. 40. 41. 42. 43. 44. 45. 46. 47. 48. 49. 50.]\n",
          "output_type": "stream"
        }
      ]
    },
    {
      "cell_type": "markdown",
      "source": "### using logspace(start,stop,num,endpoint=True,base=10,dtype)",
      "metadata": {}
    },
    {
      "cell_type": "code",
      "source": "#using defalut values\narr3=np.logspace(0,10)\nprint(arr3)",
      "metadata": {
        "trusted": true
      },
      "execution_count": 80,
      "outputs": [
        {
          "name": "stdout",
          "text": "[1.00000000e+00 1.59985872e+00 2.55954792e+00 4.09491506e+00\n 6.55128557e+00 1.04811313e+01 1.67683294e+01 2.68269580e+01\n 4.29193426e+01 6.86648845e+01 1.09854114e+02 1.75751062e+02\n 2.81176870e+02 4.49843267e+02 7.19685673e+02 1.15139540e+03\n 1.84206997e+03 2.94705170e+03 4.71486636e+03 7.54312006e+03\n 1.20679264e+04 1.93069773e+04 3.08884360e+04 4.94171336e+04\n 7.90604321e+04 1.26485522e+05 2.02358965e+05 3.23745754e+05\n 5.17947468e+05 8.28642773e+05 1.32571137e+06 2.12095089e+06\n 3.39322177e+06 5.42867544e+06 8.68511374e+06 1.38949549e+07\n 2.22299648e+07 3.55648031e+07 5.68986603e+07 9.10298178e+07\n 1.45634848e+08 2.32995181e+08 3.72759372e+08 5.96362332e+08\n 9.54095476e+08 1.52641797e+09 2.44205309e+09 3.90693994e+09\n 6.25055193e+09 1.00000000e+10]\n",
          "output_type": "stream"
        }
      ]
    },
    {
      "cell_type": "code",
      "source": "arr3=np.logspace(0,100,4,endpoint=False,base=2,dtype=\"float\")\n",
      "metadata": {
        "trusted": true
      },
      "execution_count": 91,
      "outputs": []
    },
    {
      "cell_type": "code",
      "source": "print(arr3)",
      "metadata": {
        "trusted": true
      },
      "execution_count": 92,
      "outputs": [
        {
          "name": "stdout",
          "text": "[1.00000000e+00 3.35544320e+07 1.12589991e+15 3.77789319e+22]\n",
          "output_type": "stream"
        }
      ]
    },
    {
      "cell_type": "markdown",
      "source": "### INITIALIZING ARRAYS IN NUMPY ( ZEROS( ) ,ONES( ) ,FULL( ) ,EYE( ) FUNCTIONS ) ",
      "metadata": {}
    },
    {
      "cell_type": "code",
      "source": "a=np.array([5,6,9,3,4])\nprint(np.shape(a))",
      "metadata": {
        "trusted": true
      },
      "execution_count": 94,
      "outputs": [
        {
          "name": "stdout",
          "text": "(5,)\n",
          "output_type": "stream"
        }
      ]
    },
    {
      "cell_type": "code",
      "source": "m=np.array([[[1,2],[3,6]],[[4,5],[6,9]]])\nprint(np.shape(m))",
      "metadata": {
        "trusted": true
      },
      "execution_count": 95,
      "outputs": [
        {
          "name": "stdout",
          "text": "(2, 2, 2)\n",
          "output_type": "stream"
        }
      ]
    },
    {
      "cell_type": "code",
      "source": "print(np.reshape(m,(4,2)))",
      "metadata": {
        "trusted": true
      },
      "execution_count": 97,
      "outputs": [
        {
          "name": "stdout",
          "text": "[[1 2]\n [3 6]\n [4 5]\n [6 9]]\n",
          "output_type": "stream"
        }
      ]
    },
    {
      "cell_type": "code",
      "source": "print(np.shape(m))\nprint(np.reshape(m,(8,)))",
      "metadata": {
        "trusted": true
      },
      "execution_count": 99,
      "outputs": [
        {
          "name": "stdout",
          "text": "(2, 2, 2)\n[1 2 3 6 4 5 6 9]\n",
          "output_type": "stream"
        }
      ]
    },
    {
      "cell_type": "markdown",
      "source": "#### Note: number of elements should match or should be constant ",
      "metadata": {}
    },
    {
      "cell_type": "code",
      "source": "# zeros matrix\nz=np.zeros((5,5))\nprint(z)\nz=np.zeros((2,3),dtype=\"int\")\nprint(z)",
      "metadata": {
        "trusted": true
      },
      "execution_count": 108,
      "outputs": [
        {
          "name": "stdout",
          "text": "[[0. 0. 0. 0. 0.]\n [0. 0. 0. 0. 0.]\n [0. 0. 0. 0. 0.]\n [0. 0. 0. 0. 0.]\n [0. 0. 0. 0. 0.]]\n[[0 0 0]\n [0 0 0]]\n",
          "output_type": "stream"
        }
      ]
    },
    {
      "cell_type": "markdown",
      "source": "#### zeros(),ones() and full() works in a same way but in ones we will get all elements as ones and full() prints the array with given value",
      "metadata": {}
    },
    {
      "cell_type": "code",
      "source": "e=np.eye(6)\nprint(e)",
      "metadata": {
        "trusted": true
      },
      "execution_count": 110,
      "outputs": [
        {
          "name": "stdout",
          "text": "[[1. 0. 0. 0. 0. 0.]\n [0. 1. 0. 0. 0. 0.]\n [0. 0. 1. 0. 0. 0.]\n [0. 0. 0. 1. 0. 0.]\n [0. 0. 0. 0. 1. 0.]\n [0. 0. 0. 0. 0. 1.]]\n",
          "output_type": "stream"
        }
      ]
    },
    {
      "cell_type": "markdown",
      "source": "#### in eye function all diagonal elements are one and remaining elements are zeros as shown above",
      "metadata": {}
    },
    {
      "cell_type": "markdown",
      "source": "## indexing and slicing",
      "metadata": {}
    },
    {
      "cell_type": "markdown",
      "source": "### 1d array indexing similar to lists so lets see 2d and multi dimention array",
      "metadata": {}
    },
    {
      "cell_type": "code",
      "source": "td=np.array([[1,4,7],[2,5,8],[3,6,9]])\nprint(td[1,2])#prints 8 and kind of similar to lists but in same brackets here\nprint(td[2,1:])#prints [6,9] kind of similar to lists but in same brackets here\nmd=np.array([[[1,4],[4,7]],[[2,5],[5,8]],[[3,6],[6,9]]])\nprint(md[2,1,0])#prints 6 and  kind of similar to lists but in same brackets here\nprint(md[0,1,0:1])#prints [4] kind of similar to lists but in same brackets here\n#you can also give step the syntax is [start:stop:step]",
      "metadata": {
        "trusted": true
      },
      "execution_count": 115,
      "outputs": [
        {
          "name": "stdout",
          "text": "8\n[6 9]\n6\n[4]\n",
          "output_type": "stream"
        }
      ]
    },
    {
      "cell_type": "markdown",
      "source": "### data type in array",
      "metadata": {}
    },
    {
      "cell_type": "code",
      "source": "print(a.dtype)",
      "metadata": {
        "trusted": true
      },
      "execution_count": 116,
      "outputs": [
        {
          "name": "stdout",
          "text": "int32\n",
          "output_type": "stream"
        }
      ]
    },
    {
      "cell_type": "code",
      "source": "print(td.dtype)",
      "metadata": {
        "trusted": true
      },
      "execution_count": 117,
      "outputs": [
        {
          "name": "stdout",
          "text": "int32\n",
          "output_type": "stream"
        }
      ]
    },
    {
      "cell_type": "code",
      "source": "x=td.astype(\"F\")# as type is to explictly change the data type \nprint(x)",
      "metadata": {
        "trusted": true
      },
      "execution_count": 124,
      "outputs": [
        {
          "name": "stdout",
          "text": "[[1.+0.j 4.+0.j 7.+0.j]\n [2.+0.j 5.+0.j 8.+0.j]\n [3.+0.j 6.+0.j 9.+0.j]]\n",
          "output_type": "stream"
        }
      ]
    },
    {
      "cell_type": "code",
      "source": "y=td.astype(\"S\")\nprint(y)",
      "metadata": {
        "trusted": true
      },
      "execution_count": 127,
      "outputs": [
        {
          "name": "stdout",
          "text": "[[b'1' b'4' b'7']\n [b'2' b'5' b'8']\n [b'3' b'6' b'9']]\n",
          "output_type": "stream"
        }
      ]
    },
    {
      "cell_type": "markdown",
      "source": "### copy vs view functions",
      "metadata": {}
    },
    {
      "cell_type": "code",
      "source": "w=y.copy()\nprint(y)",
      "metadata": {
        "trusted": true
      },
      "execution_count": 141,
      "outputs": [
        {
          "name": "stdout",
          "text": "[[b'1' b'4' b'7']\n [b'2' b'5' b'8']\n [b'3' b'6' b'9']]\n",
          "output_type": "stream"
        }
      ]
    },
    {
      "cell_type": "code",
      "source": "w=w.astype(\"i\")\nprint(w)\nprint(y)",
      "metadata": {
        "trusted": true
      },
      "execution_count": 149,
      "outputs": [
        {
          "name": "stdout",
          "text": "[[1 4 7]\n [2 5 8]\n [3 6 9]]\n[[b'1' b'4' b'7']\n [b'2' b'5' b'8']\n [b'3' b'6' b'9']]\n",
          "output_type": "stream"
        }
      ]
    },
    {
      "cell_type": "code",
      "source": "print(w)\nv=w.view()\nv=v.astype(\"S\")\nprint(v)\nprint(w)",
      "metadata": {
        "trusted": true
      },
      "execution_count": 152,
      "outputs": [
        {
          "name": "stdout",
          "text": "[[1 4 7]\n [2 5 8]\n [3 6 9]]\n[[b'1' b'4' b'7']\n [b'2' b'5' b'8']\n [b'3' b'6' b'9']]\n[[1 4 7]\n [2 5 8]\n [3 6 9]]\n",
          "output_type": "stream"
        }
      ]
    },
    {
      "cell_type": "code",
      "source": "print(w)",
      "metadata": {
        "trusted": true
      },
      "execution_count": 153,
      "outputs": [
        {
          "name": "stdout",
          "text": "[[1 4 7]\n [2 5 8]\n [3 6 9]]\n",
          "output_type": "stream"
        }
      ]
    },
    {
      "cell_type": "code",
      "source": "v[1,2]=b\"9\"",
      "metadata": {
        "trusted": true
      },
      "execution_count": 154,
      "outputs": []
    },
    {
      "cell_type": "code",
      "source": "print(\"v= \",v)\nprint(\"y= \",y)",
      "metadata": {
        "trusted": true
      },
      "execution_count": 159,
      "outputs": [
        {
          "name": "stdout",
          "text": "v=  [[b'1' b'4' b'7']\n [b'2' b'5' b'9']\n [b'3' b'6' b'9']]\ny=  [[b'1' b'4' b'7']\n [b'2' b'5' b'8']\n [b'3' b'6' b'9']]\n",
          "output_type": "stream"
        }
      ]
    },
    {
      "cell_type": "markdown",
      "source": "### joining using concatenate((arr1,arr2),axis)",
      "metadata": {}
    },
    {
      "cell_type": "markdown",
      "source": "### stack(),vstack(),hstack(),dstack()",
      "metadata": {}
    },
    {
      "cell_type": "code",
      "source": "a=np.arange(9).reshape(3,3)\na",
      "metadata": {
        "trusted": true
      },
      "execution_count": 160,
      "outputs": [
        {
          "execution_count": 160,
          "output_type": "execute_result",
          "data": {
            "text/plain": "array([[0, 1, 2],\n       [3, 4, 5],\n       [6, 7, 8]])"
          },
          "metadata": {}
        }
      ]
    },
    {
      "cell_type": "code",
      "source": "b=np.arange(10,28,2).reshape(3,3)\nb",
      "metadata": {
        "trusted": true
      },
      "execution_count": 163,
      "outputs": [
        {
          "execution_count": 163,
          "output_type": "execute_result",
          "data": {
            "text/plain": "array([[10, 12, 14],\n       [16, 18, 20],\n       [22, 24, 26]])"
          },
          "metadata": {}
        }
      ]
    },
    {
      "cell_type": "code",
      "source": "v=np.concatenate((a,b),axis=1)\nv",
      "metadata": {
        "trusted": true
      },
      "execution_count": 170,
      "outputs": [
        {
          "execution_count": 170,
          "output_type": "execute_result",
          "data": {
            "text/plain": "array([[ 0,  1,  2, 10, 12, 14],\n       [ 3,  4,  5, 16, 18, 20],\n       [ 6,  7,  8, 22, 24, 26]])"
          },
          "metadata": {}
        }
      ]
    },
    {
      "cell_type": "code",
      "source": "v=np.concatenate((a,b),axis=0)\nv",
      "metadata": {
        "trusted": true
      },
      "execution_count": 169,
      "outputs": [
        {
          "execution_count": 169,
          "output_type": "execute_result",
          "data": {
            "text/plain": "array([[ 0,  1,  2],\n       [ 3,  4,  5],\n       [ 6,  7,  8],\n       [10, 12, 14],\n       [16, 18, 20],\n       [22, 24, 26]])"
          },
          "metadata": {}
        }
      ]
    },
    {
      "cell_type": "code",
      "source": "np.stack((a,b))",
      "metadata": {
        "trusted": true
      },
      "execution_count": 172,
      "outputs": [
        {
          "execution_count": 172,
          "output_type": "execute_result",
          "data": {
            "text/plain": "array([[[ 0,  1,  2],\n        [ 3,  4,  5],\n        [ 6,  7,  8]],\n\n       [[10, 12, 14],\n        [16, 18, 20],\n        [22, 24, 26]]])"
          },
          "metadata": {}
        }
      ]
    },
    {
      "cell_type": "code",
      "source": "np.stack((a,b),axis=1)",
      "metadata": {
        "trusted": true
      },
      "execution_count": 173,
      "outputs": [
        {
          "execution_count": 173,
          "output_type": "execute_result",
          "data": {
            "text/plain": "array([[[ 0,  1,  2],\n        [10, 12, 14]],\n\n       [[ 3,  4,  5],\n        [16, 18, 20]],\n\n       [[ 6,  7,  8],\n        [22, 24, 26]]])"
          },
          "metadata": {}
        }
      ]
    },
    {
      "cell_type": "code",
      "source": "vst=np.vstack((a,b))\nprint(vst)",
      "metadata": {
        "trusted": true
      },
      "execution_count": 175,
      "outputs": [
        {
          "name": "stdout",
          "text": "[[ 0  1  2]\n [ 3  4  5]\n [ 6  7  8]\n [10 12 14]\n [16 18 20]\n [22 24 26]]\n",
          "output_type": "stream"
        }
      ]
    },
    {
      "cell_type": "code",
      "source": "hst=np.hstack((a,b))\nprint(hst)",
      "metadata": {
        "trusted": true
      },
      "execution_count": 177,
      "outputs": [
        {
          "name": "stdout",
          "text": "[[ 0  1  2 10 12 14]\n [ 3  4  5 16 18 20]\n [ 6  7  8 22 24 26]]\n",
          "output_type": "stream"
        }
      ]
    },
    {
      "cell_type": "code",
      "source": "dst=np.dstack((a,b))\nprint(dst)\nprint(np.ndim(dst))",
      "metadata": {
        "trusted": true
      },
      "execution_count": 181,
      "outputs": [
        {
          "name": "stdout",
          "text": "[[[ 0 10]\n  [ 1 12]\n  [ 2 14]]\n\n [[ 3 16]\n  [ 4 18]\n  [ 5 20]]\n\n [[ 6 22]\n  [ 7 24]\n  [ 8 26]]]\n3\n",
          "output_type": "stream"
        }
      ]
    },
    {
      "cell_type": "markdown",
      "source": "## arithimitic operations in numpy",
      "metadata": {}
    },
    {
      "cell_type": "code",
      "source": "a=np.array([[[1,2,3],[1,4,7]],[[2,5,8],[7,5,3]],[[1,5,9],[3,6,9]]])\nb=np.arange(18,18*3,2).reshape(3,2,3)\nprint(b)\nprint(a)",
      "metadata": {
        "trusted": true
      },
      "execution_count": 185,
      "outputs": [
        {
          "name": "stdout",
          "text": "[[[18 20 22]\n  [24 26 28]]\n\n [[30 32 34]\n  [36 38 40]]\n\n [[42 44 46]\n  [48 50 52]]]\n[[[1 2 3]\n  [1 4 7]]\n\n [[2 5 8]\n  [7 5 3]]\n\n [[1 5 9]\n  [3 6 9]]]\n",
          "output_type": "stream"
        }
      ]
    },
    {
      "cell_type": "code",
      "source": "np.shape(a)",
      "metadata": {
        "trusted": true
      },
      "execution_count": 186,
      "outputs": [
        {
          "execution_count": 186,
          "output_type": "execute_result",
          "data": {
            "text/plain": "(3, 2, 3)"
          },
          "metadata": {}
        }
      ]
    },
    {
      "cell_type": "code",
      "source": "np.shape(b)",
      "metadata": {
        "trusted": true
      },
      "execution_count": 187,
      "outputs": [
        {
          "execution_count": 187,
          "output_type": "execute_result",
          "data": {
            "text/plain": "(3, 2, 3)"
          },
          "metadata": {}
        }
      ]
    },
    {
      "cell_type": "markdown",
      "source": "## rules of broadcast.\n### shape of two arrays must be equal as shown above.",
      "metadata": {}
    },
    {
      "cell_type": "code",
      "source": "np.add(a,b)",
      "metadata": {
        "trusted": true
      },
      "execution_count": 188,
      "outputs": [
        {
          "execution_count": 188,
          "output_type": "execute_result",
          "data": {
            "text/plain": "array([[[19, 22, 25],\n        [25, 30, 35]],\n\n       [[32, 37, 42],\n        [43, 43, 43]],\n\n       [[43, 49, 55],\n        [51, 56, 61]]])"
          },
          "metadata": {}
        }
      ]
    },
    {
      "cell_type": "code",
      "source": "",
      "metadata": {
        "trusted": true
      },
      "execution_count": 189,
      "outputs": []
    },
    {
      "cell_type": "markdown",
      "source": "### rule2 second array must have at least one dimentionand no of elements in one row should be equal",
      "metadata": {}
    },
    {
      "cell_type": "code",
      "source": "c=np.array([5,3,8])",
      "metadata": {
        "trusted": true
      },
      "execution_count": 190,
      "outputs": []
    },
    {
      "cell_type": "code",
      "source": "np.subtract(b,c)\n#note the output :- the single row of c will be subtracted from every row of b",
      "metadata": {
        "trusted": true
      },
      "execution_count": 192,
      "outputs": [
        {
          "execution_count": 192,
          "output_type": "execute_result",
          "data": {
            "text/plain": "array([[[13, 17, 14],\n        [19, 23, 20]],\n\n       [[25, 29, 26],\n        [31, 35, 32]],\n\n       [[37, 41, 38],\n        [43, 47, 44]]])"
          },
          "metadata": {}
        }
      ]
    },
    {
      "cell_type": "markdown",
      "source": "### rule three the second array can be a single value",
      "metadata": {}
    },
    {
      "cell_type": "code",
      "source": "d=np.array(25)\nk=np.multiply(a,d)\nprint(k)\n#note the single value is multiplied with each and every element.",
      "metadata": {
        "trusted": true
      },
      "execution_count": 195,
      "outputs": [
        {
          "name": "stdout",
          "text": "[[[ 25  50  75]\n  [ 25 100 175]]\n\n [[ 50 125 200]\n  [175 125  75]]\n\n [[ 25 125 225]\n  [ 75 150 225]]]\n",
          "output_type": "stream"
        }
      ]
    },
    {
      "cell_type": "markdown",
      "source": "### some operations for complex numbers.",
      "metadata": {}
    },
    {
      "cell_type": "code",
      "source": "v=k.astype(\"F\")\nprint(v)",
      "metadata": {
        "trusted": true
      },
      "execution_count": 206,
      "outputs": [
        {
          "name": "stdout",
          "text": "[[[ 25.+0.j  50.+0.j  75.+0.j]\n  [ 25.+0.j 100.+0.j 175.+0.j]]\n\n [[ 50.+0.j 125.+0.j 200.+0.j]\n  [175.+0.j 125.+0.j  75.+0.j]]\n\n [[ 25.+0.j 125.+0.j 225.+0.j]\n  [ 75.+0.j 150.+0.j 225.+0.j]]]\n",
          "output_type": "stream"
        }
      ]
    },
    {
      "cell_type": "code",
      "source": "print(help(np.add))",
      "metadata": {
        "trusted": true
      },
      "execution_count": 213,
      "outputs": [
        {
          "name": "stdout",
          "text": "Help on ufunc:\n\nadd = <ufunc 'add'>\n    add(x1, x2, /, out=None, *, where=True, casting='same_kind', order='K', dtype=None, subok=True[, signature, extobj])\n    \n    Add arguments element-wise.\n    \n    Parameters\n    ----------\n    x1, x2 : array_like\n        The arrays to be added.\n        If ``x1.shape != x2.shape``, they must be broadcastable to a common\n        shape (which becomes the shape of the output).\n    out : ndarray, None, or tuple of ndarray and None, optional\n        A location into which the result is stored. If provided, it must have\n        a shape that the inputs broadcast to. If not provided or None,\n        a freshly-allocated array is returned. A tuple (possible only as a\n        keyword argument) must have length equal to the number of outputs.\n    where : array_like, optional\n        This condition is broadcast over the input. At locations where the\n        condition is True, the `out` array will be set to the ufunc result.\n        Elsewhere, the `out` array will retain its original value.\n        Note that if an uninitialized `out` array is created via the default\n        ``out=None``, locations within it where the condition is False will\n        remain uninitialized.\n    **kwargs\n        For other keyword-only arguments, see the\n        :ref:`ufunc docs <ufuncs.kwargs>`.\n    \n    Returns\n    -------\n    add : ndarray or scalar\n        The sum of `x1` and `x2`, element-wise.\n        This is a scalar if both `x1` and `x2` are scalars.\n    \n    Notes\n    -----\n    Equivalent to `x1` + `x2` in terms of array broadcasting.\n    \n    Examples\n    --------\n    >>> np.add(1.0, 4.0)\n    5.0\n    >>> x1 = np.arange(9.0).reshape((3, 3))\n    >>> x2 = np.arange(3.0)\n    >>> np.add(x1, x2)\n    array([[  0.,   2.,   4.],\n           [  3.,   5.,   7.],\n           [  6.,   8.,  10.]])\n    \n    The ``+`` operator can be used as a shorthand for ``np.add`` on ndarrays.\n    \n    >>> x1 = np.arange(9.0).reshape((3, 3))\n    >>> x2 = np.arange(3.0)\n    >>> x1 + x2\n    array([[ 0.,  2.,  4.],\n           [ 3.,  5.,  7.],\n           [ 6.,  8., 10.]])\n\nNone\n",
          "output_type": "stream"
        }
      ]
    },
    {
      "cell_type": "code",
      "source": "np.real(v)#print real part of complex numbers",
      "metadata": {
        "trusted": true
      },
      "execution_count": 214,
      "outputs": [
        {
          "execution_count": 214,
          "output_type": "execute_result",
          "data": {
            "text/plain": "array([[[ 25.,  50.,  75.],\n        [ 25., 100., 175.]],\n\n       [[ 50., 125., 200.],\n        [175., 125.,  75.]],\n\n       [[ 25., 125., 225.],\n        [ 75., 150., 225.]]], dtype=float32)"
          },
          "metadata": {}
        }
      ]
    },
    {
      "cell_type": "code",
      "source": "np.imag(v)",
      "metadata": {
        "trusted": true
      },
      "execution_count": 215,
      "outputs": [
        {
          "execution_count": 215,
          "output_type": "execute_result",
          "data": {
            "text/plain": "array([[[0., 0., 0.],\n        [0., 0., 0.]],\n\n       [[0., 0., 0.],\n        [0., 0., 0.]],\n\n       [[0., 0., 0.],\n        [0., 0., 0.]]], dtype=float32)"
          },
          "metadata": {}
        }
      ]
    },
    {
      "cell_type": "code",
      "source": "c = np.array([1+2j, 3-4j, 5+6j])\nnp.imag(c)# print(imaginary part",
      "metadata": {
        "trusted": true
      },
      "execution_count": 218,
      "outputs": [
        {
          "execution_count": 218,
          "output_type": "execute_result",
          "data": {
            "text/plain": "array([ 2., -4.,  6.])"
          },
          "metadata": {}
        }
      ]
    },
    {
      "cell_type": "code",
      "source": "np.conjugate(c)# change the sign for complex part",
      "metadata": {
        "trusted": true
      },
      "execution_count": 219,
      "outputs": [
        {
          "execution_count": 219,
          "output_type": "execute_result",
          "data": {
            "text/plain": "array([1.-2.j, 3.+4.j, 5.-6.j])"
          },
          "metadata": {}
        }
      ]
    },
    {
      "cell_type": "markdown",
      "source": "### stastical functions ",
      "metadata": {}
    },
    {
      "cell_type": "markdown",
      "source": "### functions amin() amax() average() mean() std()#standard deviation var() median() ",
      "metadata": {}
    },
    {
      "cell_type": "code",
      "source": "a=np.array([[1,2,3],[1,4,7],[2,5,8]])\n",
      "metadata": {
        "trusted": true
      },
      "execution_count": 221,
      "outputs": []
    },
    {
      "cell_type": "markdown",
      "source": "### amin() amax()",
      "metadata": {}
    },
    {
      "cell_type": "code",
      "source": "print(np.amin(a,axis=0))#min elements of each coloum\nprint(np.amax(a,axis=1))#max elements of each coloum\nprint(np.amin(a))",
      "metadata": {
        "trusted": true
      },
      "execution_count": 225,
      "outputs": [
        {
          "name": "stdout",
          "text": "[1 2 3]\n[3 7 8]\n1\n",
          "output_type": "stream"
        }
      ]
    },
    {
      "cell_type": "markdown",
      "source": "### average()",
      "metadata": {}
    },
    {
      "cell_type": "code",
      "source": "print(np.average(a))",
      "metadata": {
        "trusted": true
      },
      "execution_count": 227,
      "outputs": [
        {
          "name": "stdout",
          "text": "3.6666666666666665\n",
          "output_type": "stream"
        }
      ]
    },
    {
      "cell_type": "code",
      "source": "w=[10,20,30]",
      "metadata": {
        "trusted": true
      },
      "execution_count": 228,
      "outputs": []
    },
    {
      "cell_type": "code",
      "source": "print(np.average(a,weights=w,axis=0))#multiply the each element wrt coloum with the each element in w respectively and divide with sum of w",
      "metadata": {
        "trusted": true
      },
      "execution_count": 232,
      "outputs": [
        {
          "name": "stdout",
          "text": "[1.5        4.16666667 6.83333333]\n",
          "output_type": "stream"
        }
      ]
    },
    {
      "cell_type": "markdown",
      "source": "### mean() median()",
      "metadata": {}
    },
    {
      "cell_type": "code",
      "source": "np.mean(a)#similar to average",
      "metadata": {
        "trusted": true
      },
      "execution_count": 233,
      "outputs": [
        {
          "execution_count": 233,
          "output_type": "execute_result",
          "data": {
            "text/plain": "3.6666666666666665"
          },
          "metadata": {}
        }
      ]
    },
    {
      "cell_type": "code",
      "source": "np.mean(a,axis=0)",
      "metadata": {
        "trusted": true
      },
      "execution_count": 234,
      "outputs": [
        {
          "execution_count": 234,
          "output_type": "execute_result",
          "data": {
            "text/plain": "array([1.33333333, 3.66666667, 6.        ])"
          },
          "metadata": {}
        }
      ]
    },
    {
      "cell_type": "code",
      "source": "np.mean(a,axis=1)",
      "metadata": {
        "trusted": true
      },
      "execution_count": 235,
      "outputs": [
        {
          "execution_count": 235,
          "output_type": "execute_result",
          "data": {
            "text/plain": "array([2., 4., 5.])"
          },
          "metadata": {}
        }
      ]
    },
    {
      "cell_type": "code",
      "source": "print(a)\nnp.median(a)",
      "metadata": {
        "trusted": true
      },
      "execution_count": 237,
      "outputs": [
        {
          "name": "stdout",
          "text": "[[1 2 3]\n [1 4 7]\n [2 5 8]]\n",
          "output_type": "stream"
        },
        {
          "execution_count": 237,
          "output_type": "execute_result",
          "data": {
            "text/plain": "3.0"
          },
          "metadata": {}
        }
      ]
    },
    {
      "cell_type": "code",
      "source": "np.median(a,axis=0)",
      "metadata": {
        "trusted": true
      },
      "execution_count": 238,
      "outputs": [
        {
          "execution_count": 238,
          "output_type": "execute_result",
          "data": {
            "text/plain": "array([1., 4., 7.])"
          },
          "metadata": {}
        }
      ]
    },
    {
      "cell_type": "code",
      "source": "np.median(a,axis=1)",
      "metadata": {
        "trusted": true
      },
      "execution_count": 239,
      "outputs": [
        {
          "execution_count": 239,
          "output_type": "execute_result",
          "data": {
            "text/plain": "array([2., 4., 5.])"
          },
          "metadata": {}
        }
      ]
    },
    {
      "cell_type": "code",
      "source": "np.var(a)#variance",
      "metadata": {
        "trusted": true
      },
      "execution_count": 241,
      "outputs": [
        {
          "execution_count": 241,
          "output_type": "execute_result",
          "data": {
            "text/plain": "5.777777777777778"
          },
          "metadata": {}
        }
      ]
    },
    {
      "cell_type": "code",
      "source": "np.std(a)#standard deviation",
      "metadata": {
        "trusted": true
      },
      "execution_count": 243,
      "outputs": [
        {
          "execution_count": 243,
          "output_type": "execute_result",
          "data": {
            "text/plain": "2.4037008503093262"
          },
          "metadata": {}
        }
      ]
    },
    {
      "cell_type": "code",
      "source": "",
      "metadata": {},
      "execution_count": null,
      "outputs": []
    }
  ]
}